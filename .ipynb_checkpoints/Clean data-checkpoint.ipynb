{
 "cells": [
  {
   "cell_type": "code",
   "execution_count": 1,
   "id": "390a5081-248f-4882-ba4a-9ed027507375",
   "metadata": {},
   "outputs": [],
   "source": [
    "import pandas as pd\n"
   ]
  },
  {
   "cell_type": "code",
   "execution_count": 2,
   "id": "bbf7bedc-33e4-4574-998f-177b4e209483",
   "metadata": {},
   "outputs": [],
   "source": [
    "df = pd.read_csv('reviews_df.csv')"
   ]
  },
  {
   "cell_type": "code",
   "execution_count": 3,
   "id": "6f7406da-2a22-42a0-aaee-830e5c5e42c0",
   "metadata": {},
   "outputs": [],
   "source": [
    "reviews = df['review']"
   ]
  },
  {
   "cell_type": "code",
   "execution_count": 4,
   "id": "ea3d4c2d-5614-4f69-89b9-5464fdfcd4ce",
   "metadata": {},
   "outputs": [
    {
     "name": "stdout",
     "output_type": "stream",
     "text": [
      "0    3rd time I have bought a guitar from…\\r\\n3rd t...\n",
      "1                           Great service as per usual\n",
      "2    Good service\\r\\nGood service, and guidance for...\n",
      "3    Speedy delivery\\r\\nSpeedy delivery - great to ...\n",
      "4    Great online service and very fast…\\r\\nGreat o...\n",
      "Name: review, dtype: object\n"
     ]
    }
   ],
   "source": [
    "print(reviews.head())"
   ]
  },
  {
   "cell_type": "code",
   "execution_count": 5,
   "id": "21afd6f4-2e29-4c26-910d-02ff83977a1f",
   "metadata": {},
   "outputs": [],
   "source": [
    "# sepeate title and body of review\n",
    "reviews = reviews.str.split('\\r\\n',n=1, expand=True) # split at \\r\\n, before \\r\\n is the title and the following part is the review\n",
    "reviews[1] = reviews[1].replace('\\r\\n',' ') # the following \\r\\n are paragraph breaks so we can replace those with a blank space\n"
   ]
  },
  {
   "cell_type": "code",
   "execution_count": 6,
   "id": "9630e4ba-4d91-4a69-a69c-ddd0e06ee0c0",
   "metadata": {},
   "outputs": [],
   "source": [
    "# add the cleaned up reviews back to the dataframe\n",
    "df = pd.concat([df,reviews],axis=1)\n",
    "\n",
    "#drop extra column\n",
    "df = df.drop('review', axis=1)"
   ]
  },
  {
   "cell_type": "code",
   "execution_count": 10,
   "id": "182b9429-0632-4e57-9699-1103d8441cb8",
   "metadata": {},
   "outputs": [],
   "source": [
    "# remame columns\n",
    "df = df.rename(columns = {0:'title',1:'review'})"
   ]
  },
  {
   "cell_type": "code",
   "execution_count": 19,
   "id": "7d78ae43-4728-4551-8a55-efd0a870264b",
   "metadata": {},
   "outputs": [],
   "source": [
    "# drop extra index column\n",
    "df = df.drop('Unnamed: 0',axis=1)"
   ]
  },
  {
   "cell_type": "code",
   "execution_count": 20,
   "id": "d23a9c4a-3b0d-4c73-ae5e-8635dbd3d24d",
   "metadata": {},
   "outputs": [
    {
     "data": {
      "text/html": [
       "<div>\n",
       "<style scoped>\n",
       "    .dataframe tbody tr th:only-of-type {\n",
       "        vertical-align: middle;\n",
       "    }\n",
       "\n",
       "    .dataframe tbody tr th {\n",
       "        vertical-align: top;\n",
       "    }\n",
       "\n",
       "    .dataframe thead th {\n",
       "        text-align: right;\n",
       "    }\n",
       "</style>\n",
       "<table border=\"1\" class=\"dataframe\">\n",
       "  <thead>\n",
       "    <tr style=\"text-align: right;\">\n",
       "      <th></th>\n",
       "      <th>rating</th>\n",
       "      <th>date</th>\n",
       "      <th>title</th>\n",
       "      <th>review</th>\n",
       "    </tr>\n",
       "  </thead>\n",
       "  <tbody>\n",
       "    <tr>\n",
       "      <th>1</th>\n",
       "      <td>5</td>\n",
       "      <td>2022-02-18T05:53:20.000Z</td>\n",
       "      <td>Great service as per usual</td>\n",
       "      <td>None</td>\n",
       "    </tr>\n",
       "    <tr>\n",
       "      <th>2</th>\n",
       "      <td>5</td>\n",
       "      <td>2022-02-18T02:24:35.000Z</td>\n",
       "      <td>Good service</td>\n",
       "      <td>Good service, and guidance for choosing the co...</td>\n",
       "    </tr>\n",
       "    <tr>\n",
       "      <th>3</th>\n",
       "      <td>5</td>\n",
       "      <td>2022-02-18T01:24:05.000Z</td>\n",
       "      <td>Speedy delivery</td>\n",
       "      <td>Speedy delivery - great to buy from</td>\n",
       "    </tr>\n",
       "    <tr>\n",
       "      <th>4</th>\n",
       "      <td>5</td>\n",
       "      <td>2022-02-18T01:07:07.000Z</td>\n",
       "      <td>Great online service and very fast…</td>\n",
       "      <td>Great online service and very fast delivery. P...</td>\n",
       "    </tr>\n",
       "    <tr>\n",
       "      <th>5</th>\n",
       "      <td>5</td>\n",
       "      <td>2022-02-16T04:29:40.000Z</td>\n",
       "      <td>Excellent experience</td>\n",
       "      <td>My guitar arrived well packaged, exactly as de...</td>\n",
       "    </tr>\n",
       "    <tr>\n",
       "      <th>...</th>\n",
       "      <td>...</td>\n",
       "      <td>...</td>\n",
       "      <td>...</td>\n",
       "      <td>...</td>\n",
       "    </tr>\n",
       "    <tr>\n",
       "      <th>10135</th>\n",
       "      <td>5</td>\n",
       "      <td>2016-03-15T06:03:26.000Z</td>\n",
       "      <td>Guitar purchase.</td>\n",
       "      <td>I recently purchased an Ibanez nylon sting gui...</td>\n",
       "    </tr>\n",
       "    <tr>\n",
       "      <th>10136</th>\n",
       "      <td>5</td>\n",
       "      <td>2016-03-15T06:02:16.000Z</td>\n",
       "      <td>Early delivery. Friendly and helpful customer ...</td>\n",
       "      <td>I booked a sustain pedal for my piano online k...</td>\n",
       "    </tr>\n",
       "    <tr>\n",
       "      <th>10137</th>\n",
       "      <td>5</td>\n",
       "      <td>2016-03-15T06:00:34.000Z</td>\n",
       "      <td>Nice customer service. Fast delivery</td>\n",
       "      <td>Perfect. Excellent customer service and fast d...</td>\n",
       "    </tr>\n",
       "    <tr>\n",
       "      <th>10138</th>\n",
       "      <td>5</td>\n",
       "      <td>2016-03-15T05:57:19.000Z</td>\n",
       "      <td>The way I like to complete a transaction.</td>\n",
       "      <td>Better Music gave me great service in the purc...</td>\n",
       "    </tr>\n",
       "    <tr>\n",
       "      <th>10139</th>\n",
       "      <td>5</td>\n",
       "      <td>2016-03-15T05:52:05.000Z</td>\n",
       "      <td>Good value and service</td>\n",
       "      <td>Great value and delivery free. They even check...</td>\n",
       "    </tr>\n",
       "  </tbody>\n",
       "</table>\n",
       "<p>10139 rows × 4 columns</p>\n",
       "</div>"
      ],
      "text/plain": [
       "       rating                      date  \\\n",
       "1           5  2022-02-18T05:53:20.000Z   \n",
       "2           5  2022-02-18T02:24:35.000Z   \n",
       "3           5  2022-02-18T01:24:05.000Z   \n",
       "4           5  2022-02-18T01:07:07.000Z   \n",
       "5           5  2022-02-16T04:29:40.000Z   \n",
       "...       ...                       ...   \n",
       "10135       5  2016-03-15T06:03:26.000Z   \n",
       "10136       5  2016-03-15T06:02:16.000Z   \n",
       "10137       5  2016-03-15T06:00:34.000Z   \n",
       "10138       5  2016-03-15T05:57:19.000Z   \n",
       "10139       5  2016-03-15T05:52:05.000Z   \n",
       "\n",
       "                                                   title  \\\n",
       "1                             Great service as per usual   \n",
       "2                                           Good service   \n",
       "3                                        Speedy delivery   \n",
       "4                    Great online service and very fast…   \n",
       "5                                   Excellent experience   \n",
       "...                                                  ...   \n",
       "10135                                   Guitar purchase.   \n",
       "10136  Early delivery. Friendly and helpful customer ...   \n",
       "10137               Nice customer service. Fast delivery   \n",
       "10138          The way I like to complete a transaction.   \n",
       "10139                             Good value and service   \n",
       "\n",
       "                                                  review  \n",
       "1                                                   None  \n",
       "2      Good service, and guidance for choosing the co...  \n",
       "3                    Speedy delivery - great to buy from  \n",
       "4      Great online service and very fast delivery. P...  \n",
       "5      My guitar arrived well packaged, exactly as de...  \n",
       "...                                                  ...  \n",
       "10135  I recently purchased an Ibanez nylon sting gui...  \n",
       "10136  I booked a sustain pedal for my piano online k...  \n",
       "10137  Perfect. Excellent customer service and fast d...  \n",
       "10138  Better Music gave me great service in the purc...  \n",
       "10139  Great value and delivery free. They even check...  \n",
       "\n",
       "[10139 rows x 4 columns]"
      ]
     },
     "execution_count": 20,
     "metadata": {},
     "output_type": "execute_result"
    }
   ],
   "source": [
    "df"
   ]
  },
  {
   "cell_type": "code",
   "execution_count": 21,
   "id": "1e5f9cc9-75f5-4a5e-8306-6091e2c90cf9",
   "metadata": {},
   "outputs": [],
   "source": [
    "# convert date into pandas datetime object\n",
    "\n",
    "df['date'] = pd.to_datetime(df['date'])"
   ]
  },
  {
   "cell_type": "code",
   "execution_count": 23,
   "id": "f9f8f09e-a1df-4ac7-a626-0b4556d11807",
   "metadata": {},
   "outputs": [],
   "source": [
    "df.to_csv('cleaned_reviews.csv')"
   ]
  },
  {
   "cell_type": "code",
   "execution_count": null,
   "id": "6deec2d5-a7ef-4578-b69f-f1467e07f42b",
   "metadata": {},
   "outputs": [],
   "source": []
  }
 ],
 "metadata": {
  "kernelspec": {
   "display_name": "Python 3 (ipykernel)",
   "language": "python",
   "name": "python3"
  },
  "language_info": {
   "codemirror_mode": {
    "name": "ipython",
    "version": 3
   },
   "file_extension": ".py",
   "mimetype": "text/x-python",
   "name": "python",
   "nbconvert_exporter": "python",
   "pygments_lexer": "ipython3",
   "version": "3.10.2"
  }
 },
 "nbformat": 4,
 "nbformat_minor": 5
}
