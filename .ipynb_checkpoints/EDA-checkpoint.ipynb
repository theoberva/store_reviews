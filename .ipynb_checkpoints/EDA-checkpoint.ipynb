{
 "cells": [
  {
   "cell_type": "code",
   "execution_count": 14,
   "id": "f48e3d78-7e68-4261-bdde-a589aaee57c9",
   "metadata": {},
   "outputs": [],
   "source": [
    "import pandas as pd\n",
    "import matplotlib.pyplot as plt\n",
    "import seaborn as sns"
   ]
  },
  {
   "cell_type": "code",
   "execution_count": 15,
   "id": "6e34b764-926c-41fd-9b47-05b37c9d3105",
   "metadata": {},
   "outputs": [],
   "source": [
    "df = pd.read_csv('cleaned_reviews.csv')"
   ]
  },
  {
   "cell_type": "code",
   "execution_count": 3,
   "id": "1191aeb4-02c1-4462-b23d-a49baff6d60d",
   "metadata": {},
   "outputs": [
    {
     "data": {
      "text/plain": [
       "Text(0, 0.5, 'Count')"
      ]
     },
     "execution_count": 3,
     "metadata": {},
     "output_type": "execute_result"
    },
    {
     "data": {
      "image/png": "[encoded data removed]",
      "text/plain": [
       "<Figure size 432x288 with 1 Axes>"
      ]
     },
     "metadata": {
      "needs_background": "light"
     },
     "output_type": "display_data"
    }
   ],
   "source": [
    "# Distribution of ratings\n",
    "\n",
    "g = sns.countplot(x='rating', data=df, color='green')\n",
    "g.set_title(\"Rating distribution\", fontsize=15) # seting title and size of font\n",
    "g.set_xlabel(\"Rating\") # seting xlabel\n",
    "g.set_ylabel(\"Count\") # seting ylabel "
   ]
  },
  {
   "cell_type": "code",
   "execution_count": 28,
   "id": "238b442c-264e-4f53-ba9d-84e7282e67ce",
   "metadata": {},
   "outputs": [
    {
     "data": {
      "text/plain": [
       "('and', 8540)"
      ]
     },
     "execution_count": 28,
     "metadata": {},
     "output_type": "execute_result"
    }
   ],
   "source": [
    "df['rating'].mean()\n",
    "common[:][0]"
   ]
  },
  {
   "cell_type": "code",
   "execution_count": 17,
   "id": "13486832-3e1b-4c7c-be34-d96203f995f5",
   "metadata": {},
   "outputs": [],
   "source": [
    "# fill na values with NA text to run counter.\n",
    "df['review'] = df['review'].fillna('NA')"
   ]
  },
  {
   "cell_type": "code",
   "execution_count": 18,
   "id": "e68d311e-15d0-4869-89b3-31927fff252d",
   "metadata": {},
   "outputs": [],
   "source": [
    "#most commonly used words\n",
    "from collections import Counter\n",
    "common = Counter(\" \".join(df[\"review\"]).split()).most_common(40)\n"
   ]
  },
  {
   "cell_type": "code",
   "execution_count": 14,
   "id": "6154a5ba-64fc-4224-98ec-d181f7c29279",
   "metadata": {},
   "outputs": [],
   "source": [
    "df['date'] = pd.to_datetime(df['date'])"
   ]
  },
  {
   "cell_type": "code",
   "execution_count": 36,
   "id": "a164e808-e8c7-48ef-b4ef-a9ae1f803cba",
   "metadata": {},
   "outputs": [],
   "source": [
    "df['year/month'] = df['date'].dt.to_period('M')"
   ]
  },
  {
   "cell_type": "code",
   "execution_count": 43,
   "id": "64275053-3ca5-4a22-a060-660c72dcc237",
   "metadata": {},
   "outputs": [],
   "source": [
    "avg_rating_pm = df.groupby('year/month')['rating'].mean()"
   ]
  },
  {
   "cell_type": "code",
   "execution_count": 65,
   "id": "76efdd21-9be5-42ae-a518-1e12ae91d0d0",
   "metadata": {},
   "outputs": [
    {
     "data": {
      "image/png": "[encoded data removed]",
      "text/plain": [
       "<Figure size 432x288 with 1 Axes>"
      ]
     },
     "metadata": {
      "needs_background": "light"
     },
     "output_type": "display_data"
    }
   ],
   "source": [
    "avg_rating_pm.plot.line(color='green', title = 'Avg. Rating per Month')\n",
    "plt.show()"
   ]
  },
  {
   "cell_type": "code",
   "execution_count": null,
   "id": "74a811ec-4b5d-4231-96a8-4f87b334735a",
   "metadata": {},
   "outputs": [],
   "source": [
    "# use lambda to filter out stop words per row?\n"
   ]
  },
  {
   "cell_type": "code",
   "execution_count": 32,
   "id": "1deadb56-3409-4c8f-a9f1-e4bd1f920485",
   "metadata": {},
   "outputs": [
    {
     "name": "stdout",
     "output_type": "stream",
     "text": [
      "0\n",
      "NA\n",
      "1\n",
      "Good\n",
      "service\n",
      ",\n",
      "guidance\n",
      "choosing\n",
      "co\n",
      "...\n",
      "2\n",
      "Speedy\n",
      "delivery\n",
      "-\n",
      "great\n",
      "buy\n",
      "3\n",
      "Great\n",
      "online\n",
      "service\n",
      "fast\n",
      "delivery\n",
      ".\n",
      "P\n",
      "...\n",
      "4\n",
      "My\n",
      "guitar\n",
      "arrived\n",
      "well\n",
      "packaged\n",
      ",\n",
      "exactly\n",
      "de\n",
      "...\n",
      "...\n",
      "10134\n",
      "I\n",
      "recently\n",
      "purchased\n",
      "Ibanez\n",
      "nylon\n",
      "sting\n",
      "gui\n",
      "...\n",
      "10135\n",
      "I\n",
      "booked\n",
      "sustain\n",
      "pedal\n",
      "piano\n",
      "online\n",
      "k\n",
      "...\n",
      "10136\n",
      "Perfect\n",
      ".\n",
      "Excellent\n",
      "customer\n",
      "service\n",
      "fast\n",
      "...\n",
      "10137\n",
      "Better\n",
      "Music\n",
      "gave\n",
      "great\n",
      "service\n",
      "purc\n",
      "...\n",
      "10138\n",
      "Great\n",
      "value\n",
      "delivery\n",
      "free\n",
      ".\n",
      "They\n",
      "even\n",
      "check\n",
      "...\n",
      "Name\n",
      ":\n",
      "review\n",
      ",\n",
      "Length\n",
      ":\n",
      "10139\n",
      ",\n",
      "dtype\n",
      ":\n",
      "object\n"
     ]
    }
   ],
   "source": [
    "from nltk.corpus import stopwords\n",
    "from nltk.tokenize import word_tokenize\n",
    "\n",
    "example_sent = str(df['review'])\n",
    "  \n",
    "stop_words = set(stopwords.words('english'))\n",
    "  \n",
    "word_tokens = word_tokenize(example_sent)\n",
    "  \n",
    "filtered_sentence = [w for w in word_tokens if not w.lower() in stop_words]\n",
    "  \n",
    "filtered_sentence = []\n",
    "  \n",
    "for w in word_tokens:\n",
    "    if w not in stop_words:\n",
    "        filtered_sentence.append(w)\n",
    "  \n",
    "for word in filtered_sentence:\n",
    "    print(word)"
   ]
  },
  {
   "cell_type": "code",
   "execution_count": null,
   "id": "2641b222-bbed-4915-a45e-eae471215ab4",
   "metadata": {},
   "outputs": [],
   "source": []
  }
 ],
 "metadata": {
  "kernelspec": {
   "display_name": "Python 3 (ipykernel)",
   "language": "python",
   "name": "python3"
  },
  "language_info": {
   "codemirror_mode": {
    "name": "ipython",
    "version": 3
   },
   "file_extension": ".py",
   "mimetype": "text/x-python",
   "name": "python",
   "nbconvert_exporter": "python",
   "pygments_lexer": "ipython3",
   "version": "3.10.2"
  }
 },
 "nbformat": 4,
 "nbformat_minor": 5
}
