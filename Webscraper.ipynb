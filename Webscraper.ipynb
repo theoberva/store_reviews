{
 "cells": [
  {
   "cell_type": "code",
   "execution_count": 1,
   "id": "b55e301d-407c-4198-adc2-6ce5a4a7d9a8",
   "metadata": {},
   "outputs": [],
   "source": [
    "import pandas as pd\n",
    "import time\n",
    "from selenium import webdriver\n",
    "from webdriver_manager.chrome import ChromeDriverManager"
   ]
  },
  {
   "cell_type": "markdown",
   "id": "b8313249-e09a-4d05-8506-60a4854da486",
   "metadata": {},
   "source": [
    "# Create Driver"
   ]
  },
  {
   "cell_type": "code",
   "execution_count": 2,
   "id": "fdbd0122-68ef-44d6-9231-7dfd014ccefc",
   "metadata": {},
   "outputs": [
    {
     "name": "stdout",
     "output_type": "stream",
     "text": [
      "\n"
     ]
    },
    {
     "name": "stderr",
     "output_type": "stream",
     "text": [
      "[WDM] - ====== WebDriver manager ======\n",
      "[WDM] - Current google-chrome version is 102.0.5005\n",
      "[WDM] - Get LATEST chromedriver version for 102.0.5005 google-chrome\n",
      "[WDM] - Driver [C:\\Users\\tberv\\.wdm\\drivers\\chromedriver\\win32\\102.0.5005.61\\chromedriver.exe] found in cache\n",
      "C:\\Users\\tberv\\AppData\\Local\\Temp\\ipykernel_16108\\1503906442.py:1: DeprecationWarning: executable_path has been deprecated, please pass in a Service object\n",
      "  driver = webdriver.Chrome(ChromeDriverManager().install())\n"
     ]
    }
   ],
   "source": [
    "driver = webdriver.Chrome(ChromeDriverManager().install())"
   ]
  },
  {
   "cell_type": "code",
   "execution_count": 3,
   "id": "c772d919-59d1-4c4f-9587-2b5b7682b9b4",
   "metadata": {},
   "outputs": [],
   "source": [
    "url = 'https://au.trustpilot.com/review/bettermusic.com.au'\n",
    "driver.get(url)"
   ]
  },
  {
   "cell_type": "markdown",
   "id": "13240f5d-13b2-47ad-9486-6b6d9c2d024f",
   "metadata": {},
   "source": [
    "# Accept cookies popup"
   ]
  },
  {
   "cell_type": "code",
   "execution_count": 4,
   "id": "f236f18d-9ee0-4038-b902-792f29d9bc43",
   "metadata": {},
   "outputs": [],
   "source": [
    "from selenium.webdriver.common.by import By\n",
    "\n",
    "# Accept cookies\n",
    "driver.find_element(By.XPATH, '//button[text()=\"Got it\"]').click()\n"
   ]
  },
  {
   "cell_type": "markdown",
   "id": "ddbf61b5-90f6-47da-aca4-2fdb9f298735",
   "metadata": {},
   "source": [
    "# Find how many pages we need to iterate through"
   ]
  },
  {
   "cell_type": "code",
   "execution_count": null,
   "id": "634985fb-5663-46a6-b1c6-09043f442c34",
   "metadata": {},
   "outputs": [],
   "source": [
    "pages = driver.find_element(By.XPATH, '/html/body/div[1]/div/main/div/div[4]/section/div[25]/nav/a[7]')\n",
    "pages = int(pages.text)"
   ]
  },
  {
   "cell_type": "markdown",
   "id": "95439118-65d8-4401-b351-ae4da4bb669a",
   "metadata": {},
   "source": [
    "# Create while loop to scrape information from all pages"
   ]
  },
  {
   "cell_type": "code",
   "execution_count": 6,
   "id": "eace3112-161a-4270-b002-321d8d26e049",
   "metadata": {},
   "outputs": [],
   "source": [
    "n = pages - 1    # -1 as we are already on page 1 \n",
    "\n",
    "rating = []\n",
    "dates = []\n",
    "reviews = []\n",
    "\n",
    "while n > 0:\n",
    "    \n",
    "    #find ratings given \n",
    "    try:\n",
    "        star_ref = driver.find_elements(By.CLASS_NAME, 'styles_reviewHeader__iU9Px')\n",
    "        \n",
    "        for star in star_ref:\n",
    "            star = star.get_attribute('data-service-review-rating')\n",
    "            rating.append(star)\n",
    "    except:\n",
    "        pass\n",
    "    \n",
    "    #find the time the review was given\n",
    "    try:\n",
    "        date_ref = driver.find_elements(By.XPATH, \"//time[@data-service-review-date-time-ago]\")\n",
    "\n",
    "        for date in date_ref:\n",
    "            date = date.get_attribute('datetime')\n",
    "            dates.append(date)\n",
    "    except:\n",
    "        pass\n",
    "    \n",
    "    #find the title and review given \n",
    "    try: \n",
    "        review_ref = driver.find_elements(By.CLASS_NAME,'styles_reviewContent__0Q2Tg')\n",
    "\n",
    "        for review in review_ref:\n",
    "            review = review.text\n",
    "            reviews.append(review)                 \n",
    "    except:\n",
    "        pass\n",
    "    \n",
    "    #go to the next page then repeat\n",
    "    driver.find_element(By.LINK_TEXT, 'Next page').click()\n",
    "    time.sleep(10)\n",
    "    n -= 1\n",
    "\n",
    "driver.quit()"
   ]
  },
  {
   "cell_type": "markdown",
   "id": "e6c08b0b-c714-4751-809b-8985f9a8d42d",
   "metadata": {},
   "source": [
    "# Save our lists into a single dataframe"
   ]
  },
  {
   "cell_type": "code",
   "execution_count": 11,
   "id": "8072571a-2e6f-489d-ae72-f1720c8bc8c6",
   "metadata": {},
   "outputs": [],
   "source": [
    "reviews_df = pd.DataFrame(\n",
    "    {'rating': rating,\n",
    "     'date': dates,\n",
    "     'review': reviews\n",
    "    })\n",
    "\n",
    "# Export as CSV\n",
    "reviews_df.to_csv('reviews_df.csv')"
   ]
  },
  {
   "cell_type": "code",
   "execution_count": 14,
   "id": "f1f0e058-4da5-46c9-b5cb-5abb9c602c1c",
   "metadata": {},
   "outputs": [],
   "source": []
  },
  {
   "cell_type": "code",
   "execution_count": null,
   "id": "90483406-ec24-4f5f-a4b8-907ed15cf580",
   "metadata": {},
   "outputs": [],
   "source": []
  },
  {
   "cell_type": "code",
   "execution_count": null,
   "id": "09cb7a59-ceac-414a-be07-bf4b0bb1a1b7",
   "metadata": {},
   "outputs": [],
   "source": []
  }
 ],
 "metadata": {
  "kernelspec": {
   "display_name": "Python 3 (ipykernel)",
   "language": "python",
   "name": "python3"
  },
  "language_info": {
   "codemirror_mode": {
    "name": "ipython",
    "version": 3
   },
   "file_extension": ".py",
   "mimetype": "text/x-python",
   "name": "python",
   "nbconvert_exporter": "python",
   "pygments_lexer": "ipython3",
   "version": "3.10.2"
  }
 },
 "nbformat": 4,
 "nbformat_minor": 5
}
