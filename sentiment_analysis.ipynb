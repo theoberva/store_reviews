{
 "cells": [
  {
   "cell_type": "markdown",
   "id": "8e6d3c79",
   "metadata": {},
   "source": [
    "# 1. Setup and Load in  Data"
   ]
  },
  {
   "cell_type": "code",
   "execution_count": 1,
   "id": "d90f10de",
   "metadata": {},
   "outputs": [],
   "source": [
    "# import libraries\n",
    "import pandas as pd\n",
    "import numpy as np\n",
    "import matplotlib.pyplot as plt\n",
    "import seaborn as sns\n",
    "\n",
    "plt.style.use('ggplot')"
   ]
  },
  {
   "cell_type": "code",
   "execution_count": 2,
   "id": "e5613430",
   "metadata": {},
   "outputs": [],
   "source": [
    "# read in dataset\n",
    "df = pd.read_csv('reviews.csv', index_col=0)"
   ]
  },
  {
   "cell_type": "code",
   "execution_count": 3,
   "id": "4ca11db9",
   "metadata": {},
   "outputs": [
    {
     "data": {
      "text/plain": [
       "(10140, 2)"
      ]
     },
     "execution_count": 3,
     "metadata": {},
     "output_type": "execute_result"
    }
   ],
   "source": [
    "df.head()\n",
    "df.shape"
   ]
  },
  {
   "cell_type": "code",
   "execution_count": 4,
   "id": "03bdcfbb",
   "metadata": {},
   "outputs": [],
   "source": [
    "# flag what the review is referencing by looking for keywords\n",
    "delivery_ref = ['quick delivery','quick','fast','tracking','slow', 'delivered' , 'slow delivery', 'fast delivery', 'sent', 'received', 'delivery', 'shipping']\n",
    "service_ref = ['friendly','customer service', 'rude', 'helpful', 'service', 'guidence', 'experience', 'communication', 'staff', 'satisfied']\n",
    "price_ref = ['priced', 'price', 'expensive', 'cheap', 'value','sale']"
   ]
  },
  {
   "cell_type": "markdown",
   "id": "aa4111a4",
   "metadata": {},
   "source": [
    "# 2. Data Wrangling"
   ]
  },
  {
   "cell_type": "code",
   "execution_count": 5,
   "id": "af4cdaf3",
   "metadata": {},
   "outputs": [],
   "source": [
    "# read through the review and if it mentions one of our keywords flag that column with a 1\n",
    "def identitfy_subject(review, refs):\n",
    "    flag = 0\n",
    "    for ref in refs:\n",
    "        if review.find(ref) != -1:\n",
    "            flag = 1\n",
    "    return flag\n",
    "\n",
    "df['delivery'] = df['review'].apply(lambda x: identitfy_subject(x.lower(), delivery_ref))\n",
    "df['service'] = df['review'].apply(lambda x: identitfy_subject(x.lower(), service_ref))\n",
    "df['price'] = df['review'].apply(lambda x: identitfy_subject(x.lower(), price_ref))"
   ]
  },
  {
   "cell_type": "code",
   "execution_count": 6,
   "id": "15e0b72a",
   "metadata": {},
   "outputs": [
    {
     "name": "stdout",
     "output_type": "stream",
     "text": [
      "Delivery\n",
      " 6429\n",
      "Service\n",
      " 5947\n",
      "Price\n",
      " 2338\n"
     ]
    }
   ],
   "source": [
    "# how many reviews have been flagged\n",
    "print('Delivery\\n',df['delivery'].sum())\n",
    "print('Service\\n', df['service'].sum())\n",
    "print('Price\\n', df['price'].sum())"
   ]
  },
  {
   "cell_type": "code",
   "execution_count": 7,
   "id": "634d0e8a",
   "metadata": {},
   "outputs": [
    {
     "data": {
      "text/plain": [
       "(1068, 6)"
      ]
     },
     "execution_count": 7,
     "metadata": {},
     "output_type": "execute_result"
    }
   ],
   "source": [
    "# how many columns dont have any flags\n",
    "df['sum'] = df['delivery'] + df['service'] + df['price']\n",
    "df[df['sum'] == 0].shape"
   ]
  },
  {
   "cell_type": "markdown",
   "id": "bb9b7212",
   "metadata": {},
   "source": [
    "# 3. Preprocess"
   ]
  },
  {
   "cell_type": "code",
   "execution_count": 8,
   "id": "8462d0d6",
   "metadata": {},
   "outputs": [],
   "source": [
    "# import stopwords\n",
    "import nltk\n",
    "from nltk.corpus import stopwords\n",
    "\n",
    "# import textblob\n",
    "from textblob import Word, TextBlob"
   ]
  },
  {
   "cell_type": "code",
   "execution_count": 9,
   "id": "e3ec99a7",
   "metadata": {},
   "outputs": [
    {
     "name": "stderr",
     "output_type": "stream",
     "text": [
      "[nltk_data] Downloading package stopwords to\n",
      "[nltk_data]     C:\\Users\\tberv\\AppData\\Roaming\\nltk_data...\n",
      "[nltk_data]   Package stopwords is already up-to-date!\n",
      "[nltk_data] Downloading package wordnet to\n",
      "[nltk_data]     C:\\Users\\tberv\\AppData\\Roaming\\nltk_data...\n",
      "[nltk_data]   Package wordnet is already up-to-date!\n",
      "[nltk_data] Downloading package omw-1.4 to\n",
      "[nltk_data]     C:\\Users\\tberv\\AppData\\Roaming\\nltk_data...\n",
      "[nltk_data]   Package omw-1.4 is already up-to-date!\n"
     ]
    }
   ],
   "source": [
    "nltk.download('stopwords')\n",
    "nltk.download('wordnet')\n",
    "stop_words = stopwords.words('english')\n",
    "nltk.download('omw-1.4')\n",
    "\n",
    "# remove the store name from the reviews\n",
    "custom_stopwords = ['Better Music']"
   ]
  },
  {
   "cell_type": "code",
   "execution_count": 10,
   "id": "67fa1e55",
   "metadata": {},
   "outputs": [],
   "source": [
    "def preprocess_reviews(review, custom_stopwords):\n",
    "    preprocessed_review = review\n",
    "    # remove following punctuation\n",
    "    preprocessed_review.replace('[^\\w\\s]', '')\n",
    "    # return a word from the review only its not a stopword or custom stopword\n",
    "    preprocessed_review = ' '.join(word for word in preprocessed_review.split() if word not in stop_words)\n",
    "    preprocessed_review = ' '.join(word for word in preprocessed_review.split() if word not in custom_stopwords)\n",
    "    # lemmatize words/ reduce to base form\n",
    "    preprocessed_review = ' '.join(Word(word).lemmatize() for word in preprocessed_review.split())\n",
    "    # return preprocessed review\n",
    "    return preprocessed_review\n",
    "\n",
    "df['Processed Review'] = df['review'].apply(lambda x: preprocess_reviews(x, custom_stopwords))"
   ]
  },
  {
   "cell_type": "code",
   "execution_count": 11,
   "id": "81d6547d",
   "metadata": {},
   "outputs": [
    {
     "data": {
      "text/html": [
       "<div>\n",
       "<style scoped>\n",
       "    .dataframe tbody tr th:only-of-type {\n",
       "        vertical-align: middle;\n",
       "    }\n",
       "\n",
       "    .dataframe tbody tr th {\n",
       "        vertical-align: top;\n",
       "    }\n",
       "\n",
       "    .dataframe thead th {\n",
       "        text-align: right;\n",
       "    }\n",
       "</style>\n",
       "<table border=\"1\" class=\"dataframe\">\n",
       "  <thead>\n",
       "    <tr style=\"text-align: right;\">\n",
       "      <th></th>\n",
       "      <th>date</th>\n",
       "      <th>review</th>\n",
       "      <th>delivery</th>\n",
       "      <th>service</th>\n",
       "      <th>price</th>\n",
       "      <th>sum</th>\n",
       "      <th>Processed Review</th>\n",
       "    </tr>\n",
       "    <tr>\n",
       "      <th>rating</th>\n",
       "      <th></th>\n",
       "      <th></th>\n",
       "      <th></th>\n",
       "      <th></th>\n",
       "      <th></th>\n",
       "      <th></th>\n",
       "      <th></th>\n",
       "    </tr>\n",
       "  </thead>\n",
       "  <tbody>\n",
       "    <tr>\n",
       "      <th>5</th>\n",
       "      <td>2022-03-10T00:18:58.000Z</td>\n",
       "      <td>3rd time I have bought a guitar from…\\r\\n3rd t...</td>\n",
       "      <td>1</td>\n",
       "      <td>1</td>\n",
       "      <td>0</td>\n",
       "      <td>2</td>\n",
       "      <td>3rd time I bought guitar from… 3rd time I boug...</td>\n",
       "    </tr>\n",
       "    <tr>\n",
       "      <th>5</th>\n",
       "      <td>2022-02-18T05:53:20.000Z</td>\n",
       "      <td>Great service as per usual</td>\n",
       "      <td>0</td>\n",
       "      <td>1</td>\n",
       "      <td>0</td>\n",
       "      <td>1</td>\n",
       "      <td>Great service per usual</td>\n",
       "    </tr>\n",
       "    <tr>\n",
       "      <th>5</th>\n",
       "      <td>2022-02-18T02:24:35.000Z</td>\n",
       "      <td>Good service\\r\\nGood service, and guidance for...</td>\n",
       "      <td>0</td>\n",
       "      <td>1</td>\n",
       "      <td>0</td>\n",
       "      <td>1</td>\n",
       "      <td>Good service Good service, guidance choosing c...</td>\n",
       "    </tr>\n",
       "    <tr>\n",
       "      <th>5</th>\n",
       "      <td>2022-02-18T01:24:05.000Z</td>\n",
       "      <td>Speedy delivery\\r\\nSpeedy delivery - great to ...</td>\n",
       "      <td>1</td>\n",
       "      <td>0</td>\n",
       "      <td>0</td>\n",
       "      <td>1</td>\n",
       "      <td>Speedy delivery Speedy delivery - great buy</td>\n",
       "    </tr>\n",
       "    <tr>\n",
       "      <th>5</th>\n",
       "      <td>2022-02-18T01:07:07.000Z</td>\n",
       "      <td>Great online service and very fast…\\r\\nGreat o...</td>\n",
       "      <td>1</td>\n",
       "      <td>1</td>\n",
       "      <td>0</td>\n",
       "      <td>2</td>\n",
       "      <td>Great online service fast… Great online servic...</td>\n",
       "    </tr>\n",
       "    <tr>\n",
       "      <th>...</th>\n",
       "      <td>...</td>\n",
       "      <td>...</td>\n",
       "      <td>...</td>\n",
       "      <td>...</td>\n",
       "      <td>...</td>\n",
       "      <td>...</td>\n",
       "      <td>...</td>\n",
       "    </tr>\n",
       "    <tr>\n",
       "      <th>5</th>\n",
       "      <td>2016-03-15T06:03:26.000Z</td>\n",
       "      <td>Guitar purchase.\\r\\nI recently purchased an Ib...</td>\n",
       "      <td>1</td>\n",
       "      <td>1</td>\n",
       "      <td>1</td>\n",
       "      <td>3</td>\n",
       "      <td>Guitar purchase. I recently purchased Ibanez n...</td>\n",
       "    </tr>\n",
       "    <tr>\n",
       "      <th>5</th>\n",
       "      <td>2016-03-15T06:02:16.000Z</td>\n",
       "      <td>Early delivery. Friendly and helpful customer ...</td>\n",
       "      <td>1</td>\n",
       "      <td>1</td>\n",
       "      <td>1</td>\n",
       "      <td>3</td>\n",
       "      <td>Early delivery. Friendly helpful customer serv...</td>\n",
       "    </tr>\n",
       "    <tr>\n",
       "      <th>5</th>\n",
       "      <td>2016-03-15T06:00:34.000Z</td>\n",
       "      <td>Nice customer service. Fast delivery\\r\\nPerfec...</td>\n",
       "      <td>1</td>\n",
       "      <td>1</td>\n",
       "      <td>0</td>\n",
       "      <td>2</td>\n",
       "      <td>Nice customer service. Fast delivery Perfect. ...</td>\n",
       "    </tr>\n",
       "    <tr>\n",
       "      <th>5</th>\n",
       "      <td>2016-03-15T05:57:19.000Z</td>\n",
       "      <td>The way I like to complete a transaction.\\r\\nB...</td>\n",
       "      <td>0</td>\n",
       "      <td>1</td>\n",
       "      <td>1</td>\n",
       "      <td>2</td>\n",
       "      <td>The way I like complete transaction. Better Mu...</td>\n",
       "    </tr>\n",
       "    <tr>\n",
       "      <th>5</th>\n",
       "      <td>2016-03-15T05:52:05.000Z</td>\n",
       "      <td>Good value and service\\r\\nGreat value and deli...</td>\n",
       "      <td>1</td>\n",
       "      <td>1</td>\n",
       "      <td>1</td>\n",
       "      <td>3</td>\n",
       "      <td>Good value service Great value delivery free. ...</td>\n",
       "    </tr>\n",
       "  </tbody>\n",
       "</table>\n",
       "<p>10140 rows × 7 columns</p>\n",
       "</div>"
      ],
      "text/plain": [
       "                            date  \\\n",
       "rating                             \n",
       "5       2022-03-10T00:18:58.000Z   \n",
       "5       2022-02-18T05:53:20.000Z   \n",
       "5       2022-02-18T02:24:35.000Z   \n",
       "5       2022-02-18T01:24:05.000Z   \n",
       "5       2022-02-18T01:07:07.000Z   \n",
       "...                          ...   \n",
       "5       2016-03-15T06:03:26.000Z   \n",
       "5       2016-03-15T06:02:16.000Z   \n",
       "5       2016-03-15T06:00:34.000Z   \n",
       "5       2016-03-15T05:57:19.000Z   \n",
       "5       2016-03-15T05:52:05.000Z   \n",
       "\n",
       "                                                   review  delivery  service  \\\n",
       "rating                                                                         \n",
       "5       3rd time I have bought a guitar from…\\r\\n3rd t...         1        1   \n",
       "5                              Great service as per usual         0        1   \n",
       "5       Good service\\r\\nGood service, and guidance for...         0        1   \n",
       "5       Speedy delivery\\r\\nSpeedy delivery - great to ...         1        0   \n",
       "5       Great online service and very fast…\\r\\nGreat o...         1        1   \n",
       "...                                                   ...       ...      ...   \n",
       "5       Guitar purchase.\\r\\nI recently purchased an Ib...         1        1   \n",
       "5       Early delivery. Friendly and helpful customer ...         1        1   \n",
       "5       Nice customer service. Fast delivery\\r\\nPerfec...         1        1   \n",
       "5       The way I like to complete a transaction.\\r\\nB...         0        1   \n",
       "5       Good value and service\\r\\nGreat value and deli...         1        1   \n",
       "\n",
       "        price  sum                                   Processed Review  \n",
       "rating                                                                 \n",
       "5           0    2  3rd time I bought guitar from… 3rd time I boug...  \n",
       "5           0    1                            Great service per usual  \n",
       "5           0    1  Good service Good service, guidance choosing c...  \n",
       "5           0    1        Speedy delivery Speedy delivery - great buy  \n",
       "5           0    2  Great online service fast… Great online servic...  \n",
       "...       ...  ...                                                ...  \n",
       "5           1    3  Guitar purchase. I recently purchased Ibanez n...  \n",
       "5           1    3  Early delivery. Friendly helpful customer serv...  \n",
       "5           0    2  Nice customer service. Fast delivery Perfect. ...  \n",
       "5           1    2  The way I like complete transaction. Better Mu...  \n",
       "5           1    3  Good value service Great value delivery free. ...  \n",
       "\n",
       "[10140 rows x 7 columns]"
      ]
     },
     "execution_count": 11,
     "metadata": {},
     "output_type": "execute_result"
    }
   ],
   "source": [
    "df"
   ]
  },
  {
   "cell_type": "markdown",
   "id": "2dfa4f28",
   "metadata": {},
   "source": [
    "# 4. Calculate Sentiment"
   ]
  },
  {
   "cell_type": "markdown",
   "id": "3fb04b55",
   "metadata": {},
   "source": [
    "We will calculate 2 values: Polarity and Subjectivity.\n",
    "\n",
    "Polarity will measure how positive or negative the review is. (range -1 to 1, -1 = negative and 1 = positive)\n",
    "\n",
    "Subjectivity will measure how objective or subjective the review is. (range from 0 - 1, 0 = subjective and 1 = objective)\n",
    "\n",
    "---"
   ]
  },
  {
   "cell_type": "code",
   "execution_count": 12,
   "id": "dc029ea3",
   "metadata": {},
   "outputs": [],
   "source": [
    "# turn our review into textblob object and extract polarity (first value returned) and subjectivity (second value returned)\n",
    "df['polarity'] = df['Processed Review'].apply(lambda x: TextBlob(x).sentiment[0])\n",
    "df['subjectivity'] = df['Processed Review'].apply(lambda x: TextBlob(x).sentiment[1])"
   ]
  },
  {
   "cell_type": "code",
   "execution_count": 13,
   "id": "ebbd57ad",
   "metadata": {},
   "outputs": [
    {
     "data": {
      "text/html": [
       "<div>\n",
       "<style scoped>\n",
       "    .dataframe tbody tr th:only-of-type {\n",
       "        vertical-align: middle;\n",
       "    }\n",
       "\n",
       "    .dataframe tbody tr th {\n",
       "        vertical-align: top;\n",
       "    }\n",
       "\n",
       "    .dataframe thead th {\n",
       "        text-align: right;\n",
       "    }\n",
       "</style>\n",
       "<table border=\"1\" class=\"dataframe\">\n",
       "  <thead>\n",
       "    <tr style=\"text-align: right;\">\n",
       "      <th></th>\n",
       "      <th>date</th>\n",
       "      <th>review</th>\n",
       "      <th>delivery</th>\n",
       "      <th>service</th>\n",
       "      <th>price</th>\n",
       "      <th>sum</th>\n",
       "      <th>Processed Review</th>\n",
       "      <th>polarity</th>\n",
       "      <th>subjectivity</th>\n",
       "    </tr>\n",
       "    <tr>\n",
       "      <th>rating</th>\n",
       "      <th></th>\n",
       "      <th></th>\n",
       "      <th></th>\n",
       "      <th></th>\n",
       "      <th></th>\n",
       "      <th></th>\n",
       "      <th></th>\n",
       "      <th></th>\n",
       "      <th></th>\n",
       "    </tr>\n",
       "  </thead>\n",
       "  <tbody>\n",
       "    <tr>\n",
       "      <th>5</th>\n",
       "      <td>2022-03-10T00:18:58.000Z</td>\n",
       "      <td>3rd time I have bought a guitar from…\\r\\n3rd t...</td>\n",
       "      <td>1</td>\n",
       "      <td>1</td>\n",
       "      <td>0</td>\n",
       "      <td>2</td>\n",
       "      <td>3rd time I bought guitar from… 3rd time I boug...</td>\n",
       "      <td>0.360</td>\n",
       "      <td>0.38</td>\n",
       "    </tr>\n",
       "    <tr>\n",
       "      <th>5</th>\n",
       "      <td>2022-02-18T05:53:20.000Z</td>\n",
       "      <td>Great service as per usual</td>\n",
       "      <td>0</td>\n",
       "      <td>1</td>\n",
       "      <td>0</td>\n",
       "      <td>1</td>\n",
       "      <td>Great service per usual</td>\n",
       "      <td>0.275</td>\n",
       "      <td>0.50</td>\n",
       "    </tr>\n",
       "    <tr>\n",
       "      <th>5</th>\n",
       "      <td>2022-02-18T02:24:35.000Z</td>\n",
       "      <td>Good service\\r\\nGood service, and guidance for...</td>\n",
       "      <td>0</td>\n",
       "      <td>1</td>\n",
       "      <td>0</td>\n",
       "      <td>1</td>\n",
       "      <td>Good service Good service, guidance choosing c...</td>\n",
       "      <td>0.700</td>\n",
       "      <td>0.60</td>\n",
       "    </tr>\n",
       "    <tr>\n",
       "      <th>5</th>\n",
       "      <td>2022-02-18T01:24:05.000Z</td>\n",
       "      <td>Speedy delivery\\r\\nSpeedy delivery - great to ...</td>\n",
       "      <td>1</td>\n",
       "      <td>0</td>\n",
       "      <td>0</td>\n",
       "      <td>1</td>\n",
       "      <td>Speedy delivery Speedy delivery - great buy</td>\n",
       "      <td>0.800</td>\n",
       "      <td>0.75</td>\n",
       "    </tr>\n",
       "    <tr>\n",
       "      <th>5</th>\n",
       "      <td>2022-02-18T01:07:07.000Z</td>\n",
       "      <td>Great online service and very fast…\\r\\nGreat o...</td>\n",
       "      <td>1</td>\n",
       "      <td>1</td>\n",
       "      <td>0</td>\n",
       "      <td>2</td>\n",
       "      <td>Great online service fast… Great online servic...</td>\n",
       "      <td>0.600</td>\n",
       "      <td>0.70</td>\n",
       "    </tr>\n",
       "  </tbody>\n",
       "</table>\n",
       "</div>"
      ],
      "text/plain": [
       "                            date  \\\n",
       "rating                             \n",
       "5       2022-03-10T00:18:58.000Z   \n",
       "5       2022-02-18T05:53:20.000Z   \n",
       "5       2022-02-18T02:24:35.000Z   \n",
       "5       2022-02-18T01:24:05.000Z   \n",
       "5       2022-02-18T01:07:07.000Z   \n",
       "\n",
       "                                                   review  delivery  service  \\\n",
       "rating                                                                         \n",
       "5       3rd time I have bought a guitar from…\\r\\n3rd t...         1        1   \n",
       "5                              Great service as per usual         0        1   \n",
       "5       Good service\\r\\nGood service, and guidance for...         0        1   \n",
       "5       Speedy delivery\\r\\nSpeedy delivery - great to ...         1        0   \n",
       "5       Great online service and very fast…\\r\\nGreat o...         1        1   \n",
       "\n",
       "        price  sum                                   Processed Review  \\\n",
       "rating                                                                  \n",
       "5           0    2  3rd time I bought guitar from… 3rd time I boug...   \n",
       "5           0    1                            Great service per usual   \n",
       "5           0    1  Good service Good service, guidance choosing c...   \n",
       "5           0    1        Speedy delivery Speedy delivery - great buy   \n",
       "5           0    2  Great online service fast… Great online servic...   \n",
       "\n",
       "        polarity  subjectivity  \n",
       "rating                          \n",
       "5          0.360          0.38  \n",
       "5          0.275          0.50  \n",
       "5          0.700          0.60  \n",
       "5          0.800          0.75  \n",
       "5          0.600          0.70  "
      ]
     },
     "execution_count": 13,
     "metadata": {},
     "output_type": "execute_result"
    }
   ],
   "source": [
    "df.head()"
   ]
  },
  {
   "cell_type": "code",
   "execution_count": 14,
   "id": "87d6a16b",
   "metadata": {},
   "outputs": [
    {
     "data": {
      "text/html": [
       "<div>\n",
       "<style scoped>\n",
       "    .dataframe tbody tr th:only-of-type {\n",
       "        vertical-align: middle;\n",
       "    }\n",
       "\n",
       "    .dataframe tbody tr th {\n",
       "        vertical-align: top;\n",
       "    }\n",
       "\n",
       "    .dataframe thead th {\n",
       "        text-align: right;\n",
       "    }\n",
       "</style>\n",
       "<table border=\"1\" class=\"dataframe\">\n",
       "  <thead>\n",
       "    <tr style=\"text-align: right;\">\n",
       "      <th></th>\n",
       "      <th>polarity</th>\n",
       "      <th>subjectivity</th>\n",
       "    </tr>\n",
       "  </thead>\n",
       "  <tbody>\n",
       "    <tr>\n",
       "      <th>mean</th>\n",
       "      <td>0.492506</td>\n",
       "      <td>0.623760</td>\n",
       "    </tr>\n",
       "    <tr>\n",
       "      <th>amin</th>\n",
       "      <td>-1.000000</td>\n",
       "      <td>0.000000</td>\n",
       "    </tr>\n",
       "    <tr>\n",
       "      <th>median</th>\n",
       "      <td>0.500000</td>\n",
       "      <td>0.628571</td>\n",
       "    </tr>\n",
       "    <tr>\n",
       "      <th>amax</th>\n",
       "      <td>1.000000</td>\n",
       "      <td>1.000000</td>\n",
       "    </tr>\n",
       "  </tbody>\n",
       "</table>\n",
       "</div>"
      ],
      "text/plain": [
       "        polarity  subjectivity\n",
       "mean    0.492506      0.623760\n",
       "amin   -1.000000      0.000000\n",
       "median  0.500000      0.628571\n",
       "amax    1.000000      1.000000"
      ]
     },
     "execution_count": 14,
     "metadata": {},
     "output_type": "execute_result"
    }
   ],
   "source": [
    "df[['polarity', 'subjectivity']].agg([np.mean, np.min,np.median, np.max])"
   ]
  },
  {
   "cell_type": "code",
   "execution_count": 15,
   "id": "27f8b7be",
   "metadata": {},
   "outputs": [
    {
     "name": "stderr",
     "output_type": "stream",
     "text": [
      "C:\\Users\\tberv\\AppData\\Local\\Temp\\ipykernel_24752\\1821461629.py:2: UserWarning: Converting to PeriodArray/Index representation will drop timezone information.\n",
      "  df1['date'] = pd.to_datetime(df1['date']).dt.to_period('Q')\n"
     ]
    }
   ],
   "source": [
    "df1 = df[['date', 'polarity']].copy()\n",
    "df1['date'] = pd.to_datetime(df1['date']).dt.to_period('Q')\n",
    "df1 = df1.groupby('date').mean().reset_index()"
   ]
  },
  {
   "cell_type": "code",
   "execution_count": 16,
   "id": "6541d885",
   "metadata": {},
   "outputs": [],
   "source": [
    "df1 = df1.groupby('date').mean().reset_index()"
   ]
  },
  {
   "cell_type": "markdown",
   "id": "31e62291",
   "metadata": {},
   "source": [
    "--- \n",
    "\n",
    "**With a polarity of 0.5, the reviews lean more towards positive and subjectivity of 0.63 the reviews lean closer to being more objective.**\n"
   ]
  },
  {
   "cell_type": "markdown",
   "id": "5c474236",
   "metadata": {},
   "source": [
    "# 5. Visualise"
   ]
  },
  {
   "cell_type": "code",
   "execution_count": 17,
   "id": "cc42e87a",
   "metadata": {},
   "outputs": [
    {
     "data": {
      "text/html": [
       "<div>\n",
       "<style scoped>\n",
       "    .dataframe tbody tr th:only-of-type {\n",
       "        vertical-align: middle;\n",
       "    }\n",
       "\n",
       "    .dataframe tbody tr th {\n",
       "        vertical-align: top;\n",
       "    }\n",
       "\n",
       "    .dataframe thead th {\n",
       "        text-align: right;\n",
       "    }\n",
       "</style>\n",
       "<table border=\"1\" class=\"dataframe\">\n",
       "  <thead>\n",
       "    <tr style=\"text-align: right;\">\n",
       "      <th></th>\n",
       "      <th>date</th>\n",
       "      <th>polarity</th>\n",
       "      <th>MA Polarity</th>\n",
       "    </tr>\n",
       "  </thead>\n",
       "  <tbody>\n",
       "    <tr>\n",
       "      <th>0</th>\n",
       "      <td>2016Q1</td>\n",
       "      <td>0.552747</td>\n",
       "      <td>NaN</td>\n",
       "    </tr>\n",
       "    <tr>\n",
       "      <th>1</th>\n",
       "      <td>2016Q2</td>\n",
       "      <td>0.465102</td>\n",
       "      <td>NaN</td>\n",
       "    </tr>\n",
       "    <tr>\n",
       "      <th>2</th>\n",
       "      <td>2016Q3</td>\n",
       "      <td>0.495224</td>\n",
       "      <td>0.504358</td>\n",
       "    </tr>\n",
       "    <tr>\n",
       "      <th>3</th>\n",
       "      <td>2016Q4</td>\n",
       "      <td>0.484280</td>\n",
       "      <td>0.481535</td>\n",
       "    </tr>\n",
       "    <tr>\n",
       "      <th>4</th>\n",
       "      <td>2017Q1</td>\n",
       "      <td>0.488013</td>\n",
       "      <td>0.489172</td>\n",
       "    </tr>\n",
       "    <tr>\n",
       "      <th>5</th>\n",
       "      <td>2017Q2</td>\n",
       "      <td>0.471463</td>\n",
       "      <td>0.481252</td>\n",
       "    </tr>\n",
       "    <tr>\n",
       "      <th>6</th>\n",
       "      <td>2017Q3</td>\n",
       "      <td>0.509950</td>\n",
       "      <td>0.489809</td>\n",
       "    </tr>\n",
       "    <tr>\n",
       "      <th>7</th>\n",
       "      <td>2017Q4</td>\n",
       "      <td>0.491122</td>\n",
       "      <td>0.490845</td>\n",
       "    </tr>\n",
       "    <tr>\n",
       "      <th>8</th>\n",
       "      <td>2018Q1</td>\n",
       "      <td>0.506731</td>\n",
       "      <td>0.502601</td>\n",
       "    </tr>\n",
       "    <tr>\n",
       "      <th>9</th>\n",
       "      <td>2018Q2</td>\n",
       "      <td>0.502401</td>\n",
       "      <td>0.500085</td>\n",
       "    </tr>\n",
       "    <tr>\n",
       "      <th>10</th>\n",
       "      <td>2018Q3</td>\n",
       "      <td>0.505313</td>\n",
       "      <td>0.504815</td>\n",
       "    </tr>\n",
       "    <tr>\n",
       "      <th>11</th>\n",
       "      <td>2018Q4</td>\n",
       "      <td>0.514295</td>\n",
       "      <td>0.507336</td>\n",
       "    </tr>\n",
       "    <tr>\n",
       "      <th>12</th>\n",
       "      <td>2019Q1</td>\n",
       "      <td>0.495280</td>\n",
       "      <td>0.504962</td>\n",
       "    </tr>\n",
       "    <tr>\n",
       "      <th>13</th>\n",
       "      <td>2019Q2</td>\n",
       "      <td>0.495587</td>\n",
       "      <td>0.501720</td>\n",
       "    </tr>\n",
       "    <tr>\n",
       "      <th>14</th>\n",
       "      <td>2019Q3</td>\n",
       "      <td>0.487648</td>\n",
       "      <td>0.492838</td>\n",
       "    </tr>\n",
       "    <tr>\n",
       "      <th>15</th>\n",
       "      <td>2019Q4</td>\n",
       "      <td>0.486288</td>\n",
       "      <td>0.489841</td>\n",
       "    </tr>\n",
       "    <tr>\n",
       "      <th>16</th>\n",
       "      <td>2020Q1</td>\n",
       "      <td>0.520232</td>\n",
       "      <td>0.498056</td>\n",
       "    </tr>\n",
       "    <tr>\n",
       "      <th>17</th>\n",
       "      <td>2020Q2</td>\n",
       "      <td>0.480600</td>\n",
       "      <td>0.495707</td>\n",
       "    </tr>\n",
       "    <tr>\n",
       "      <th>18</th>\n",
       "      <td>2020Q3</td>\n",
       "      <td>0.489752</td>\n",
       "      <td>0.496862</td>\n",
       "    </tr>\n",
       "    <tr>\n",
       "      <th>19</th>\n",
       "      <td>2020Q4</td>\n",
       "      <td>0.489033</td>\n",
       "      <td>0.486462</td>\n",
       "    </tr>\n",
       "    <tr>\n",
       "      <th>20</th>\n",
       "      <td>2021Q1</td>\n",
       "      <td>0.501926</td>\n",
       "      <td>0.493571</td>\n",
       "    </tr>\n",
       "    <tr>\n",
       "      <th>21</th>\n",
       "      <td>2021Q2</td>\n",
       "      <td>0.473045</td>\n",
       "      <td>0.488001</td>\n",
       "    </tr>\n",
       "    <tr>\n",
       "      <th>22</th>\n",
       "      <td>2021Q3</td>\n",
       "      <td>0.477862</td>\n",
       "      <td>0.484278</td>\n",
       "    </tr>\n",
       "    <tr>\n",
       "      <th>23</th>\n",
       "      <td>2021Q4</td>\n",
       "      <td>0.456908</td>\n",
       "      <td>0.469272</td>\n",
       "    </tr>\n",
       "    <tr>\n",
       "      <th>24</th>\n",
       "      <td>2022Q1</td>\n",
       "      <td>0.480114</td>\n",
       "      <td>0.471628</td>\n",
       "    </tr>\n",
       "  </tbody>\n",
       "</table>\n",
       "</div>"
      ],
      "text/plain": [
       "      date  polarity  MA Polarity\n",
       "0   2016Q1  0.552747          NaN\n",
       "1   2016Q2  0.465102          NaN\n",
       "2   2016Q3  0.495224     0.504358\n",
       "3   2016Q4  0.484280     0.481535\n",
       "4   2017Q1  0.488013     0.489172\n",
       "5   2017Q2  0.471463     0.481252\n",
       "6   2017Q3  0.509950     0.489809\n",
       "7   2017Q4  0.491122     0.490845\n",
       "8   2018Q1  0.506731     0.502601\n",
       "9   2018Q2  0.502401     0.500085\n",
       "10  2018Q3  0.505313     0.504815\n",
       "11  2018Q4  0.514295     0.507336\n",
       "12  2019Q1  0.495280     0.504962\n",
       "13  2019Q2  0.495587     0.501720\n",
       "14  2019Q3  0.487648     0.492838\n",
       "15  2019Q4  0.486288     0.489841\n",
       "16  2020Q1  0.520232     0.498056\n",
       "17  2020Q2  0.480600     0.495707\n",
       "18  2020Q3  0.489752     0.496862\n",
       "19  2020Q4  0.489033     0.486462\n",
       "20  2021Q1  0.501926     0.493571\n",
       "21  2021Q2  0.473045     0.488001\n",
       "22  2021Q3  0.477862     0.484278\n",
       "23  2021Q4  0.456908     0.469272\n",
       "24  2022Q1  0.480114     0.471628"
      ]
     },
     "execution_count": 17,
     "metadata": {},
     "output_type": "execute_result"
    }
   ],
   "source": [
    "# Create rolling moving average that takes into account the previous 10 records\n",
    "df1['MA Polarity'] = df1['polarity'].rolling(3).mean()\n",
    "df1"
   ]
  },
  {
   "cell_type": "code",
   "execution_count": 18,
   "id": "7ecfa22d",
   "metadata": {},
   "outputs": [
    {
     "data": {
      "image/png": "[encoded data removed]",
      "text/plain": [
       "<Figure size 640x480 with 1 Axes>"
      ]
     },
     "metadata": {},
     "output_type": "display_data"
    }
   ],
   "source": [
    "# Plot overall Polarity\n",
    "df1.set_index('date')\n",
    "df1['MA Polarity'].plot()\n",
    "plt.title('Polarity per Quarter - 3 QTR Moving Average')\n",
    "plt.show()\n"
   ]
  },
  {
   "cell_type": "code",
   "execution_count": 19,
   "id": "09274111",
   "metadata": {},
   "outputs": [
    {
     "name": "stderr",
     "output_type": "stream",
     "text": [
      "C:\\Users\\tberv\\AppData\\Local\\Temp\\ipykernel_24752\\2944337161.py:6: UserWarning: Converting to PeriodArray/Index representation will drop timezone information.\n",
      "  df_delivery['date'] = pd.to_datetime(df_delivery['date']).dt.to_period('Q')\n",
      "C:\\Users\\tberv\\AppData\\Local\\Temp\\ipykernel_24752\\2944337161.py:13: UserWarning: Converting to PeriodArray/Index representation will drop timezone information.\n",
      "  df_service['date'] = pd.to_datetime(df_service['date']).dt.to_period('Q')\n",
      "C:\\Users\\tberv\\AppData\\Local\\Temp\\ipykernel_24752\\2944337161.py:20: UserWarning: Converting to PeriodArray/Index representation will drop timezone information.\n",
      "  df_price['date'] = pd.to_datetime(df_price['date']).dt.to_period('Q')\n"
     ]
    }
   ],
   "source": [
    "# Create moving average for rows within reference groups\n",
    "\n",
    "# Delivery reference\n",
    "df_delivery = df[df['delivery']==1][['date','polarity']]\n",
    "df_delivery['MA'] = df_delivery['polarity'].rolling(3).mean()\n",
    "df_delivery['date'] = pd.to_datetime(df_delivery['date']).dt.to_period('Q')\n",
    "df_delivery = df_delivery.groupby('date').mean().reset_index()\n",
    "df_delivery = df_delivery.set_index('date')\n",
    "\n",
    "# Service reference\n",
    "df_service = df[df['service']==1][['date','polarity']]\n",
    "df_service['MA'] = df_service['polarity'].rolling(3).mean()\n",
    "df_service['date'] = pd.to_datetime(df_service['date']).dt.to_period('Q')\n",
    "df_service = df_service.groupby('date').mean().reset_index()\n",
    "df_service = df_service.set_index('date')\n",
    "\n",
    "# Price reference\n",
    "df_price = df[df['price']==1][['date','polarity']]\n",
    "df_price['MA'] = df_price['polarity'].rolling(3).mean()\n",
    "df_price['date'] = pd.to_datetime(df_price['date']).dt.to_period('Q')\n",
    "df_price = df_price.groupby('date').mean().reset_index()\n",
    "df_price = df_price.set_index('date')\n"
   ]
  },
  {
   "cell_type": "code",
   "execution_count": 20,
   "id": "844b10b6",
   "metadata": {},
   "outputs": [
    {
     "data": {
      "image/png": "[encoded data removed]",
      "text/plain": [
       "<Figure size 640x480 with 1 Axes>"
      ]
     },
     "metadata": {},
     "output_type": "display_data"
    }
   ],
   "source": [
    "df_price['MA'].plot(label = 'Price')\n",
    "df_delivery['MA'].plot(label = 'Delivery')\n",
    "df_service['MA'].plot(label = 'Service')\n",
    "\n",
    "plt.legend()\n",
    "plt.title('Sentiment by Review Reference')\n",
    "plt.show()"
   ]
  },
  {
   "cell_type": "markdown",
   "id": "8fdd1a27",
   "metadata": {},
   "source": [
    "Note that dataset for reference groups is unbalanced as seen earlier with Delivery having triple the amount of reviews than Price.\n",
    "The date column is group in Qtr bins which are also unbalanced.\n"
   ]
  },
  {
   "cell_type": "code",
   "execution_count": 26,
   "id": "8d982f6f",
   "metadata": {},
   "outputs": [
    {
     "data": {
      "image/png": "[encoded data removed]",
      "text/plain": [
       "<Figure size 1000x500 with 2 Axes>"
      ]
     },
     "metadata": {},
     "output_type": "display_data"
    }
   ],
   "source": [
    "fig, axs = plt.subplots(1,2, figsize = (10,5))\n",
    "\n",
    "df = df.reset_index()\n",
    "sns.barplot(data=df, x='rating', y='polarity', ax=axs[0])\n",
    "sns.barplot(data=df, x='rating', y='subjectivity', ax=axs[1])\n",
    "\n",
    "\n",
    "fig.suptitle('Sentiment By Review Rating', fontsize=10)\n",
    "\n",
    "plt.show()"
   ]
  },
  {
   "cell_type": "markdown",
   "id": "107978a7",
   "metadata": {},
   "source": [
    "**As we would expect the more positive the polarity the higher the rating.**"
   ]
  },
  {
   "cell_type": "code",
   "execution_count": 27,
   "id": "a421ea06",
   "metadata": {},
   "outputs": [
    {
     "data": {
      "image/png": "[encoded data removed]",
      "text/plain": [
       "<Figure size 640x480 with 1 Axes>"
      ]
     },
     "metadata": {},
     "output_type": "display_data"
    }
   ],
   "source": [
    "ax1 = sns.barplot(data = df, x = 'rating', y = 'subjectivity')\n",
    "plt.title('Subjectivity by Review Score')\n",
    "plt.show()"
   ]
  },
  {
   "cell_type": "markdown",
   "id": "15cc50ee",
   "metadata": {},
   "source": [
    "**Subjectivity shows less of a pattern but slightly more objective reviews reflect higher ratings.**"
   ]
  }
 ],
 "metadata": {
  "kernelspec": {
   "display_name": "Python 3 (ipykernel)",
   "language": "python",
   "name": "python3"
  },
  "language_info": {
   "codemirror_mode": {
    "name": "ipython",
    "version": 3
   },
   "file_extension": ".py",
   "mimetype": "text/x-python",
   "name": "python",
   "nbconvert_exporter": "python",
   "pygments_lexer": "ipython3",
   "version": "3.10.7"
  },
  "vscode": {
   "interpreter": {
    "hash": "d57c152add3a77aa406b6a31edc12b55f0062050fedadc6ea5d152b48566b0e5"
   }
  }
 },
 "nbformat": 4,
 "nbformat_minor": 5
}
