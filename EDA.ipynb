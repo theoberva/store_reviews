{
 "cells": [
  {
   "cell_type": "code",
   "execution_count": 1,
   "id": "f48e3d78-7e68-4261-bdde-a589aaee57c9",
   "metadata": {},
   "outputs": [],
   "source": [
    "import pandas as pd\n",
    "import matplotlib.pyplot as plt\n",
    "import seaborn as sns"
   ]
  },
  {
   "cell_type": "code",
   "execution_count": 2,
   "id": "6e34b764-926c-41fd-9b47-05b37c9d3105",
   "metadata": {},
   "outputs": [],
   "source": [
    "df = pd.read_csv('cleaned_reviews.csv')"
   ]
  },
  {
   "cell_type": "code",
   "execution_count": 3,
   "id": "1191aeb4-02c1-4462-b23d-a49baff6d60d",
   "metadata": {},
   "outputs": [
    {
     "data": {
      "text/plain": [
       "Text(0, 0.5, 'Count')"
      ]
     },
     "execution_count": 3,
     "metadata": {},
     "output_type": "execute_result"
    },
    {
     "data": {
      "image/png": "[encoded data removed]",
      "text/plain": [
       "<Figure size 432x288 with 1 Axes>"
      ]
     },
     "metadata": {
      "needs_background": "light"
     },
     "output_type": "display_data"
    }
   ],
   "source": [
    "# Distribution of ratings\n",
    "\n",
    "g = sns.countplot(x='rating', data=df, color='green')\n",
    "g.set_title(\"Rating distribution\", fontsize=15) # seting title and size of font\n",
    "g.set_xlabel(\"Rating\") # seting xlabel\n",
    "g.set_ylabel(\"Count\") # seting ylabel "
   ]
  },
  {
   "cell_type": "code",
   "execution_count": 4,
   "id": "238b442c-264e-4f53-ba9d-84e7282e67ce",
   "metadata": {},
   "outputs": [
    {
     "data": {
      "text/plain": [
       "4.8428839136009465"
      ]
     },
     "execution_count": 4,
     "metadata": {},
     "output_type": "execute_result"
    }
   ],
   "source": [
    "# average overall rating\n",
    "df['rating'].mean()"
   ]
  },
  {
   "cell_type": "code",
   "execution_count": 7,
   "id": "64275053-3ca5-4a22-a060-660c72dcc237",
   "metadata": {},
   "outputs": [
    {
     "name": "stderr",
     "output_type": "stream",
     "text": [
      "C:\\Python\\Python310\\lib\\site-packages\\pandas\\core\\arrays\\datetimes.py:1162: UserWarning: Converting to PeriodArray/Index representation will drop timezone information.\n",
      "  warnings.warn(\n"
     ]
    }
   ],
   "source": [
    "#Monthly average rating\n",
    "df['date'] = pd.to_datetime(df['date'])\n",
    "df['year/month'] = df['date'].dt.to_period('M')\n",
    "avg_rating_pm = df.groupby('year/month')['rating'].mean()"
   ]
  },
  {
   "cell_type": "code",
   "execution_count": 81,
   "id": "76efdd21-9be5-42ae-a518-1e12ae91d0d0",
   "metadata": {},
   "outputs": [
    {
     "data": {
      "image/png": "[encoded data removed]",
      "text/plain": [
       "<Figure size 432x288 with 1 Axes>"
      ]
     },
     "metadata": {
      "needs_background": "light"
     },
     "output_type": "display_data"
    }
   ],
   "source": [
    "avg_rating_pm.plot.line(color='green', title = 'Avg. Rating per Month',ylabel = 'Rating',xlabel='Date')\n",
    "plt.show()"
   ]
  },
  {
   "cell_type": "code",
   "execution_count": 5,
   "id": "13486832-3e1b-4c7c-be34-d96203f995f5",
   "metadata": {},
   "outputs": [],
   "source": [
    "# fill na values with NA text to run counter.\n",
    "df['review'] = df['review'].fillna('NA')\n",
    "df['review'] = df['review'].str.lower() "
   ]
  },
  {
   "cell_type": "code",
   "execution_count": 42,
   "id": "2641b222-bbed-4915-a45e-eae471215ab4",
   "metadata": {},
   "outputs": [],
   "source": [
    "#Stop words arent going to mean much so we can remove them\n",
    "\n",
    "from nltk.corpus import stopwords\n",
    "\n",
    "stop_words = set(stopwords.words('english'))\n",
    "\n",
    "df['review(no_stopwords)'] = df['review'].apply(lambda x: ' '.join([word for word in x.split() if word not in (stop_words)]))\n",
    "df['title(no_stopwords)'] = df['title'].apply(lambda x: ' '.join([word for word in x.split() if word not in (stop_words)]))\n",
    "df['title_review(ns)'] = df['title(no_stopwords)'] + ' ' + df['review(no_stopwords)']\n",
    "\n"
   ]
  },
  {
   "cell_type": "code",
   "execution_count": 48,
   "id": "cbfda91a-ea87-47eb-9bcf-a5280dcb4e0f",
   "metadata": {},
   "outputs": [
    {
     "name": "stderr",
     "output_type": "stream",
     "text": [
      "C:\\Users\\tberv\\AppData\\Local\\Temp\\ipykernel_14056\\297408662.py:2: FutureWarning: The default value of regex will change from True to False in a future version.\n",
      "  df['title_review(ns)'] = df['title_review(ns)'].str.replace('[{}]'.format(string.punctuation), '')\n"
     ]
    }
   ],
   "source": [
    "# remove punctuation\n",
    "import string\n",
    "df['title_review(ns)'] = df['title_review(ns)'].str.replace('[{}]'.format(string.punctuation), '')\n"
   ]
  },
  {
   "cell_type": "code",
   "execution_count": 57,
   "id": "a053d7e4-3dc1-46de-b356-9b1e666c14fc",
   "metadata": {},
   "outputs": [],
   "source": [
    "# remove na so it doesnt come up in our common words\n",
    "df['title_review(ns)'] = df['title_review(ns)'].str.replace('na', '')\n"
   ]
  },
  {
   "cell_type": "code",
   "execution_count": 18,
   "id": "7d332015-b03f-420d-8350-4a8e227c3b29",
   "metadata": {},
   "outputs": [
    {
     "name": "stdout",
     "output_type": "stream",
     "text": [
      "Rating: 1 : \n",
      " [('better', 49), ('order', 44), ('music', 38), ('would', 36), ('item', 35), ('online', 31), ('received', 30), ('told', 28), ('guitar', 26), ('days', 26)] \n",
      "\n",
      "Rating: 2 : \n",
      " [('item', 33), ('days', 24), ('order', 23), ('delivery', 22), ('ordered', 21), ('express', 21), ('guitar', 20), ('stock', 19), ('service', 18), ('better', 18)] \n",
      "\n",
      "Rating: 3 : \n",
      " [('product', 71), ('delivery', 67), ('would', 65), ('item', 64), ('order', 58), ('service', 54), ('good', 52), ('better', 46), ('stock', 44), ('ordered', 41)] \n",
      "\n",
      "Rating: 4 : \n",
      " [('good', 264), ('service', 221), ('delivery', 216), ('great', 154), ('would', 137), ('product', 131), ('better', 112), ('order', 104), ('music', 95), ('arrived', 85)] \n",
      "\n",
      "Rating: 5 : \n",
      " [('service', 3746), ('great', 3226), ('delivery', 2280), ('fast', 2068), ('good', 1840), ('better', 1793), ('Great', 1710), ('music', 1541), ('quick', 1321), ('na', 1231)] \n",
      "\n"
     ]
    }
   ],
   "source": [
    "#most commonly used words per rating\n",
    "\n",
    "\n",
    "rating_1 = df[df['rating']==1]\n",
    "rating_2 = df[df['rating']==2]\n",
    "rating_3 = df[df['rating']==3]\n",
    "rating_4 = df[df['rating']==4]\n",
    "rating_5 = df[df['rating']==5]\n",
    "\n",
    "rating_list = [rating_1,rating_2,rating_3,rating_4,rating_5]\n",
    "\n",
    "from collections import Counter\n",
    "n=1\n",
    "for rating in rating_list:\n",
    "    common = Counter(\" \".join(rating['title_review(ns)']).split()).most_common(10)\n",
    "    print('Rating:',n,': \\n', common, '\\n')\n",
    "    n +=1"
   ]
  },
  {
   "cell_type": "code",
   "execution_count": 39,
   "id": "d2f935fa-ebff-446d-beea-de96161cd20a",
   "metadata": {},
   "outputs": [],
   "source": [
    "#single words arnt to informative so we can try find the most common bigrams\n",
    "\n",
    "\n",
    "from nltk.tokenize import word_tokenize\n",
    "from nltk.probability import FreqDist\n",
    "from nltk import bigrams\n",
    "import itertools\n"
   ]
  },
  {
   "cell_type": "code",
   "execution_count": 74,
   "id": "f40d056c-b36a-4ea6-8740-b6fe93c7ef45",
   "metadata": {},
   "outputs": [],
   "source": [
    "# create a function to find common bigrams for given dataframe\n",
    "\n",
    "def common_bigram(mydf,n): # n = top n amount of bigrams\n",
    "    \n",
    "    myTokens = [word_tokenize(Reviews) for Reviews in mydf]\n",
    "\n",
    "    myTokens_noCase = [[word.lower() for word in Reviews if (len(Reviews)>1) and \n",
    "                                (len(word)>3)] for Reviews in myTokens]\n",
    "\n",
    "    # Generate lists of bigrams\n",
    "    myBigram = [list(bigrams(Reviews)) for Reviews in myTokens_noCase]\n",
    "\n",
    "\n",
    "\n",
    "    # Put all lists together\n",
    "    myBigramListNeg = list(itertools.chain.from_iterable(myBigram))\n",
    "\n",
    "\n",
    "    # Get the most frequent ones\n",
    "    bigramFreqNeg = FreqDist(myBigramListNeg)\n",
    "    bigram = bigramFreqNeg.most_common(n)\n",
    "    return bigram\n",
    "                                    "
   ]
  },
  {
   "cell_type": "code",
   "execution_count": 95,
   "id": "f8dac3bc-3adf-4686-99fd-e64707ab234d",
   "metadata": {},
   "outputs": [
    {
     "data": {
      "text/plain": [
       "[(('better', 'music'), 2081),\n",
       " (('great', 'service'), 1595),\n",
       " (('fast', 'delivery'), 1145),\n",
       " (('customer', 'service'), 973),\n",
       " (('excellent', 'service'), 766),\n",
       " (('quick', 'delivery'), 681),\n",
       " (('service', 'great'), 641),\n",
       " (('great', 'price'), 438),\n",
       " (('good', 'service'), 401),\n",
       " (('fast', 'shipping'), 376),\n",
       " (('great', 'product'), 364),\n",
       " (('good', 'price'), 340),\n",
       " (('prompt', 'delivery'), 318),\n",
       " (('service', 'fast'), 315),\n",
       " (('service', 'excellent'), 295),\n",
       " (('highly', 'recommend'), 292),\n",
       " (('great', 'customer'), 283),\n",
       " (('super', 'fast'), 266),\n",
       " (('delivery', 'great'), 255),\n",
       " (('great', 'communication'), 245),\n",
       " (('best', 'price'), 219),\n",
       " (('great', 'prices'), 209),\n",
       " (('deal', 'with'), 208),\n",
       " (('service', 'good'), 206),\n",
       " (('excellent', 'customer'), 206),\n",
       " (('highly', 'recommended'), 202),\n",
       " (('good', 'communication'), 197),\n",
       " (('prompt', 'service'), 196),\n",
       " (('fast', 'service'), 190),\n",
       " (('speedy', 'delivery'), 180),\n",
       " (('service', 'quick'), 178),\n",
       " (('well', 'packaged'), 177),\n",
       " (('great', 'experience'), 177),\n",
       " (('would', 'recommend'), 171),\n",
       " (('perfect', 'condition'), 167),\n",
       " (('fantastic', 'service'), 161),\n",
       " (('arrived', 'quickly'), 161),\n",
       " (('within', 'days'), 155),\n",
       " (('delivery', 'good'), 152),\n",
       " (('service', 'prompt'), 149),\n",
       " (('delivery', 'fast'), 148),\n",
       " (('efficient', 'service'), 145),\n",
       " (('price', 'fast'), 145),\n",
       " (('recommend', 'better'), 141),\n",
       " (('good', 'prices'), 137),\n",
       " (('easy', 'deal'), 132),\n",
       " (('delivery', 'quick'), 131),\n",
       " (('would', 'definitely'), 126),\n",
       " (('delivery', 'time'), 126),\n",
       " (('quick', 'service'), 126)]"
      ]
     },
     "execution_count": 95,
     "metadata": {},
     "output_type": "execute_result"
    }
   ],
   "source": [
    "# run function on all reviews\n",
    "overall_bigram = common_bigram(df['title_review(ns)'], 50)\n",
    "overall_bigram"
   ]
  },
  {
   "cell_type": "code",
   "execution_count": 92,
   "id": "c5dfb66d-7ae9-4c5e-b9fa-976c4f6cc115",
   "metadata": {},
   "outputs": [],
   "source": [
    "overall_bigram = pd.DataFrame(overall_bigram)\n",
    "overall_bigram.to_csv('bigram.csv', index=False)"
   ]
  },
  {
   "cell_type": "code",
   "execution_count": 116,
   "id": "08dc716d-b3ba-4026-a989-1d3b2b44b6a7",
   "metadata": {},
   "outputs": [],
   "source": [
    "rating_list = [rating_1,rating_2,rating_3,rating_4,rating_5]\n",
    "all_bigrams = pd.DataFrame()\n",
    "n=1\n",
    "\n",
    "for rating_df in rating_list:\n",
    "    rating_bigram = pd.DataFrame(common_bigram(rating_df['title_review(ns)'],20))\n",
    "    rating_bigram['rating'] = n\n",
    "    rating_bigram = rating_bigram.rename(columns = {0:'bigram',1:'count'})\n",
    "    all_bigrams = pd.concat([all_bigrams,rating_bigram])\n",
    "    n += 1\n",
    "    "
   ]
  },
  {
   "cell_type": "code",
   "execution_count": 118,
   "id": "f53a620b-248b-4057-be1a-3ece5c3085c0",
   "metadata": {},
   "outputs": [],
   "source": [
    "all_bigrams.to_csv('bigram_by_rating.csv',index=False)"
   ]
  },
  {
   "cell_type": "code",
   "execution_count": null,
   "id": "d51c9651-1be7-4db1-87e5-aeddca914938",
   "metadata": {},
   "outputs": [],
   "source": []
  }
 ],
 "metadata": {
  "kernelspec": {
   "display_name": "Python 3 (ipykernel)",
   "language": "python",
   "name": "python3"
  },
  "language_info": {
   "codemirror_mode": {
    "name": "ipython",
    "version": 3
   },
   "file_extension": ".py",
   "mimetype": "text/x-python",
   "name": "python",
   "nbconvert_exporter": "python",
   "pygments_lexer": "ipython3",
   "version": "3.10.2"
  }
 },
 "nbformat": 4,
 "nbformat_minor": 5
}
